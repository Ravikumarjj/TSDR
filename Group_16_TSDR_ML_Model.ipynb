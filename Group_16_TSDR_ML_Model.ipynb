{
 "cells": [
  {
   "cell_type": "markdown",
   "id": "cd8fb5ea",
   "metadata": {},
   "source": [
    "# Traffic Sign Detection and Recognition Model\n"
   ]
  },
  {
   "cell_type": "markdown",
   "id": "6b95efa1",
   "metadata": {},
   "source": [
    "Group 16: \n",
    "\n",
    "Ravi kanu baniya\n",
    "\n",
    "Chandrali Shyam\n",
    "\n",
    "Roshan Yadav\n",
    "\n",
    "Sukanya Baruah"
   ]
  },
  {
   "cell_type": "markdown",
   "id": "b42bb5a5",
   "metadata": {},
   "source": [
    "# Importing Required Libraries"
   ]
  },
  {
   "cell_type": "code",
   "execution_count": 1,
   "id": "8a229b2c",
   "metadata": {},
   "outputs": [],
   "source": [
    " import numpy as np \n",
    "import pandas as pd \n",
    "import matplotlib.pyplot as plt\n",
    "import cv2\n",
    "import tensorflow as tf\n",
    "from PIL import Image\n",
    "import os\n",
    "from sklearn.model_selection import train_test_split\n",
    "from keras.utils import to_categorical\n",
    "from keras.models import Sequential, load_model\n",
    "from keras.layers import Conv2D, MaxPool2D, Dense, Flatten, Dropout\n",
    "\n",
    "\n"
   ]
  },
  {
   "cell_type": "markdown",
   "id": "9aa9e5dc",
   "metadata": {},
   "source": [
    "#  Storing data, labels in the list"
   ]
  },
  {
   "cell_type": "code",
   "execution_count": 2,
   "id": "fde5d3a0",
   "metadata": {},
   "outputs": [],
   "source": [
    "data = []\n",
    "labels = []\n",
    "# We have 43 Classes\n",
    "classes = 43\n",
    "cur_path = os.getcwd()"
   ]
  },
  {
   "cell_type": "code",
   "execution_count": 3,
   "id": "368f9cb6",
   "metadata": {},
   "outputs": [
    {
     "data": {
      "text/plain": [
       "'C:\\\\Users\\\\KIIT\\\\OneDrive\\\\Desktop\\\\TTL_MINI_PROJECT'"
      ]
     },
     "execution_count": 3,
     "metadata": {},
     "output_type": "execute_result"
    }
   ],
   "source": [
    "cur_path"
   ]
  },
  {
   "cell_type": "markdown",
   "id": "01d23fa7",
   "metadata": {},
   "source": [
    "# Preprocessing all those traffic sign images"
   ]
  },
  {
   "cell_type": "code",
   "execution_count": 4,
   "id": "dca3c9c7",
   "metadata": {},
   "outputs": [],
   "source": [
    "for i in range(classes):\n",
    "    path = os.path.join(cur_path,'train',str(i))\n",
    "    images = os.listdir(path)\n",
    "    for a in images:\n",
    "        try:\n",
    "            image = Image.open(path + '\\\\'+ a)\n",
    "            image = image.resize((30,30))\n",
    "            image = np.array(image)\n",
    "            data.append(image)\n",
    "            labels.append(i)\n",
    "        except Exception as e:\n",
    "            print(e)"
   ]
  },
  {
   "cell_type": "markdown",
   "id": "49d364c8",
   "metadata": {},
   "source": [
    "# Converting lists into numpy arrays"
   ]
  },
  {
   "cell_type": "code",
   "execution_count": 5,
   "id": "7d93f502",
   "metadata": {},
   "outputs": [],
   "source": [
    "data = np.array(data)\n",
    "labels = np.array(labels)"
   ]
  },
  {
   "cell_type": "markdown",
   "id": "0546f8bc",
   "metadata": {},
   "source": [
    "# Saving labels & Data for future use"
   ]
  },
  {
   "cell_type": "code",
   "execution_count": 6,
   "id": "34be46a7",
   "metadata": {},
   "outputs": [],
   "source": [
    "\n",
    "np.save('./training/data',data)\n",
    "np.save('./training/target',labels)"
   ]
  },
  {
   "cell_type": "markdown",
   "id": "d32f275a",
   "metadata": {},
   "source": [
    "# Load data & Labels"
   ]
  },
  {
   "cell_type": "code",
   "execution_count": 7,
   "id": "49b2cf6a",
   "metadata": {},
   "outputs": [],
   "source": [
    "data=np.load('./training/data.npy')\n",
    "labels=np.load('./training/target.npy')"
   ]
  },
  {
   "cell_type": "code",
   "execution_count": 8,
   "id": "5bf4e2ba",
   "metadata": {},
   "outputs": [
    {
     "data": {
      "text/plain": [
       "(39209, 30, 30, 3)"
      ]
     },
     "execution_count": 8,
     "metadata": {},
     "output_type": "execute_result"
    }
   ],
   "source": [
    "data.shape"
   ]
  },
  {
   "cell_type": "code",
   "execution_count": 9,
   "id": "3d6e7a9a",
   "metadata": {},
   "outputs": [
    {
     "data": {
      "text/plain": [
       "(39209,)"
      ]
     },
     "execution_count": 9,
     "metadata": {},
     "output_type": "execute_result"
    }
   ],
   "source": [
    "labels.shape"
   ]
  },
  {
   "cell_type": "code",
   "execution_count": 10,
   "id": "76c616e2",
   "metadata": {},
   "outputs": [],
   "source": [
    "X_train, X_test, y_train, y_test = train_test_split(data, labels, test_size=0.2, random_state=0)\n"
   ]
  },
  {
   "cell_type": "code",
   "execution_count": 11,
   "id": "28060c8b",
   "metadata": {},
   "outputs": [
    {
     "name": "stdout",
     "output_type": "stream",
     "text": [
      "(31367, 30, 30, 3) (7842, 30, 30, 3) (31367,) (7842,)\n"
     ]
    }
   ],
   "source": [
    "print(X_train.shape, X_test.shape, y_train.shape, y_test.shape)\n"
   ]
  },
  {
   "cell_type": "markdown",
   "id": "d6807add",
   "metadata": {},
   "source": [
    "# Converting labels to onehot encoding"
   ]
  },
  {
   "cell_type": "code",
   "execution_count": 12,
   "id": "dca79d0d",
   "metadata": {},
   "outputs": [],
   "source": [
    "#onehot encoding is the method of converting the categorical data column into new categorical column for better performance and prediction\n",
    "y_train = to_categorical(y_train, 43)\n",
    "y_test = to_categorical(y_test, 43)"
   ]
  },
  {
   "cell_type": "markdown",
   "id": "201e9dc9",
   "metadata": {},
   "source": [
    "# Model Building"
   ]
  },
  {
   "cell_type": "code",
   "execution_count": 13,
   "id": "bcc408c9",
   "metadata": {},
   "outputs": [],
   "source": [
    "model = Sequential()\n",
    "model.add(Conv2D(filters=32, kernel_size=(5,5), activation='relu', input_shape=X_train.shape[1:]))\n",
    "model.add(Conv2D(filters=32, kernel_size=(5,5), activation='relu'))\n",
    "model.add(MaxPool2D(pool_size=(2, 2)))\n",
    "model.add(Dropout(rate=0.25))\n",
    "model.add(Conv2D(filters=64, kernel_size=(3, 3), activation='relu'))\n",
    "model.add(Conv2D(filters=64, kernel_size=(3, 3), activation='relu'))\n",
    "model.add(MaxPool2D(pool_size=(2, 2)))\n",
    "model.add(Dropout(rate=0.25))\n",
    "model.add(Flatten())\n",
    "model.add(Dense(256, activation='relu'))\n",
    "model.add(Dropout(rate=0.5))\n",
    "# We have 43 classes that's why we have defined 43 in the dense\n",
    "model.add(Dense(43, activation='softmax'))"
   ]
  },
  {
   "cell_type": "markdown",
   "id": "d6143e50",
   "metadata": {},
   "source": [
    "# Compilation of Model"
   ]
  },
  {
   "cell_type": "code",
   "execution_count": 14,
   "id": "b10c6715",
   "metadata": {},
   "outputs": [],
   "source": [
    "model.compile(loss='categorical_crossentropy', optimizer='adam', metrics=['accuracy'])"
   ]
  },
  {
   "cell_type": "code",
   "execution_count": 15,
   "id": "be7f0ad3",
   "metadata": {
    "scrolled": true
   },
   "outputs": [
    {
     "name": "stdout",
     "output_type": "stream",
     "text": [
      "Epoch 1/30\n",
      "981/981 [==============================] - 97s 98ms/step - loss: 1.7315 - accuracy: 0.5738 - val_loss: 0.2911 - val_accuracy: 0.9317\n",
      "Epoch 2/30\n",
      "981/981 [==============================] - 90s 92ms/step - loss: 0.4730 - accuracy: 0.8707 - val_loss: 0.1270 - val_accuracy: 0.9680\n",
      "Epoch 3/30\n",
      "981/981 [==============================] - 99s 101ms/step - loss: 0.3129 - accuracy: 0.9127 - val_loss: 0.0724 - val_accuracy: 0.9810\n",
      "Epoch 4/30\n",
      "981/981 [==============================] - 169s 172ms/step - loss: 0.2465 - accuracy: 0.9323 - val_loss: 0.0768 - val_accuracy: 0.9802\n",
      "Epoch 5/30\n",
      "981/981 [==============================] - 72s 73ms/step - loss: 0.2382 - accuracy: 0.9379 - val_loss: 0.0784 - val_accuracy: 0.9773\n",
      "Epoch 6/30\n",
      "981/981 [==============================] - 64s 66ms/step - loss: 0.2299 - accuracy: 0.9425 - val_loss: 0.0652 - val_accuracy: 0.9823\n",
      "Epoch 7/30\n",
      "981/981 [==============================] - 65s 67ms/step - loss: 0.2509 - accuracy: 0.9382 - val_loss: 0.0910 - val_accuracy: 0.9739\n",
      "Epoch 8/30\n",
      "981/981 [==============================] - 68s 70ms/step - loss: 0.1687 - accuracy: 0.9567 - val_loss: 0.0379 - val_accuracy: 0.9906\n",
      "Epoch 9/30\n",
      "981/981 [==============================] - 71s 73ms/step - loss: 0.1838 - accuracy: 0.9538 - val_loss: 0.0636 - val_accuracy: 0.9837\n",
      "Epoch 10/30\n",
      "981/981 [==============================] - 78s 80ms/step - loss: 0.1993 - accuracy: 0.9517 - val_loss: 0.0478 - val_accuracy: 0.9874\n",
      "Epoch 11/30\n",
      "981/981 [==============================] - 86s 88ms/step - loss: 0.1867 - accuracy: 0.9538 - val_loss: 0.0929 - val_accuracy: 0.9765\n",
      "Epoch 12/30\n",
      "981/981 [==============================] - 85s 87ms/step - loss: 0.1996 - accuracy: 0.9535 - val_loss: 0.0376 - val_accuracy: 0.9927\n",
      "Epoch 13/30\n",
      "981/981 [==============================] - 85s 86ms/step - loss: 0.1707 - accuracy: 0.9616 - val_loss: 0.0400 - val_accuracy: 0.9895\n",
      "Epoch 14/30\n",
      "981/981 [==============================] - 85s 87ms/step - loss: 0.1679 - accuracy: 0.9592 - val_loss: 0.0530 - val_accuracy: 0.9892\n",
      "Epoch 15/30\n",
      "981/981 [==============================] - 83s 85ms/step - loss: 0.2126 - accuracy: 0.9534 - val_loss: 0.0468 - val_accuracy: 0.9889\n",
      "Epoch 16/30\n",
      "981/981 [==============================] - 82s 84ms/step - loss: 0.1928 - accuracy: 0.9564 - val_loss: 0.0560 - val_accuracy: 0.9861\n",
      "Epoch 17/30\n",
      "981/981 [==============================] - 83s 85ms/step - loss: 0.1707 - accuracy: 0.9610 - val_loss: 0.0434 - val_accuracy: 0.9916\n",
      "Epoch 18/30\n",
      "981/981 [==============================] - 83s 84ms/step - loss: 0.2363 - accuracy: 0.9510 - val_loss: 0.0836 - val_accuracy: 0.9810\n",
      "Epoch 19/30\n",
      "981/981 [==============================] - 85s 87ms/step - loss: 0.1888 - accuracy: 0.9584 - val_loss: 0.0541 - val_accuracy: 0.9879\n",
      "Epoch 20/30\n",
      "981/981 [==============================] - 81s 82ms/step - loss: 0.2163 - accuracy: 0.9539 - val_loss: 0.0500 - val_accuracy: 0.9906\n",
      "Epoch 21/30\n",
      "981/981 [==============================] - 77s 78ms/step - loss: 0.1856 - accuracy: 0.9611 - val_loss: 0.0323 - val_accuracy: 0.9932\n",
      "Epoch 22/30\n",
      "981/981 [==============================] - 81s 83ms/step - loss: 0.1837 - accuracy: 0.9623 - val_loss: 0.0842 - val_accuracy: 0.9786\n",
      "Epoch 23/30\n",
      "981/981 [==============================] - 80s 82ms/step - loss: 0.2089 - accuracy: 0.9587 - val_loss: 0.0368 - val_accuracy: 0.9932\n",
      "Epoch 24/30\n",
      "981/981 [==============================] - 81s 82ms/step - loss: 0.1731 - accuracy: 0.9630 - val_loss: 0.0408 - val_accuracy: 0.9912\n",
      "Epoch 25/30\n",
      "981/981 [==============================] - 82s 84ms/step - loss: 0.2288 - accuracy: 0.9566 - val_loss: 0.0448 - val_accuracy: 0.9892\n",
      "Epoch 26/30\n",
      "981/981 [==============================] - 81s 82ms/step - loss: 0.1946 - accuracy: 0.9607 - val_loss: 0.1062 - val_accuracy: 0.9740\n",
      "Epoch 27/30\n",
      "981/981 [==============================] - 81s 82ms/step - loss: 0.2229 - accuracy: 0.9568 - val_loss: 0.0645 - val_accuracy: 0.9870\n",
      "Epoch 28/30\n",
      "981/981 [==============================] - 82s 83ms/step - loss: 0.2289 - accuracy: 0.9582 - val_loss: 0.0303 - val_accuracy: 0.9926\n",
      "Epoch 29/30\n",
      "981/981 [==============================] - 80s 82ms/step - loss: 0.2362 - accuracy: 0.9551 - val_loss: 0.0689 - val_accuracy: 0.9834\n",
      "Epoch 30/30\n",
      "981/981 [==============================] - 80s 82ms/step - loss: 0.2133 - accuracy: 0.9589 - val_loss: 0.0493 - val_accuracy: 0.9906\n"
     ]
    }
   ],
   "source": [
    "epochs = 30\n",
    "history = model.fit(X_train, y_train, batch_size=32, epochs=epochs, validation_data=(X_test, y_test))"
   ]
  },
  {
   "cell_type": "markdown",
   "id": "0921218d",
   "metadata": {},
   "source": [
    "# Plotting a graph against accuracy and epochs "
   ]
  },
  {
   "cell_type": "code",
   "execution_count": 16,
   "id": "6cd10979",
   "metadata": {},
   "outputs": [
    {
     "data": {
      "image/png": "[encoded data removed]",
      "text/plain": [
       "<Figure size 432x288 with 1 Axes>"
      ]
     },
     "metadata": {
      "needs_background": "light"
     },
     "output_type": "display_data"
    }
   ],
   "source": [
    "plt.figure(0)\n",
    "plt.plot(history.history['accuracy'], label='Training Accuracy')\n",
    "plt.plot(history.history['val_accuracy'], label='Val Accuracy')\n",
    "plt.title('Accuracy')\n",
    "plt.xlabel('Epochs')\n",
    "plt.ylabel('Accuracy')\n",
    "plt.legend()\n",
    "plt.show()"
   ]
  },
  {
   "cell_type": "code",
   "execution_count": 17,
   "id": "47af0c22",
   "metadata": {},
   "outputs": [],
   "source": [
    "#here we can see after 5 epoch we started getting flat constant graph\n",
    "#let plot a graph against the loss against each epochs"
   ]
  },
  {
   "cell_type": "code",
   "execution_count": 18,
   "id": "e1214a36",
   "metadata": {},
   "outputs": [
    {
     "data": {
      "image/png": "[encoded data removed]",
      "text/plain": [
       "<Figure size 432x288 with 1 Axes>"
      ]
     },
     "metadata": {
      "needs_background": "light"
     },
     "output_type": "display_data"
    }
   ],
   "source": [
    "plt.plot(history.history['loss'], label='training loss')\n",
    "plt.plot(history.history['val_loss'], label='val loss')\n",
    "plt.title('Loss')\n",
    "plt.xlabel('epochs')\n",
    "plt.ylabel('loss')\n",
    "plt.legend()\n",
    "plt.show()"
   ]
  },
  {
   "cell_type": "markdown",
   "id": "7dd9a110",
   "metadata": {},
   "source": [
    "# Testing on Test data "
   ]
  },
  {
   "cell_type": "code",
   "execution_count": 19,
   "id": "18ede981",
   "metadata": {},
   "outputs": [],
   "source": [
    "y_test = pd.read_csv('Test.csv')\n",
    "label = y_test[\"ClassId\"].values\n",
    "imgs = y_test[\"Path\"].values\n",
    "data=[]\n",
    "for img in imgs:\n",
    "    image = Image.open(img)\n",
    "    image = image.resize((30,30))\n",
    "    data.append(np.array(image))\n",
    "X_test=np.array(data)\n"
   ]
  },
  {
   "cell_type": "code",
   "execution_count": 23,
   "id": "17c03756",
   "metadata": {},
   "outputs": [
    {
     "name": "stdout",
     "output_type": "stream",
     "text": [
      "395/395 [==============================] - 6s 16ms/step\n"
     ]
    },
    {
     "data": {
      "text/plain": [
       "array([16,  1, 38, ...,  3,  7, 10], dtype=int64)"
      ]
     },
     "execution_count": 23,
     "metadata": {},
     "output_type": "execute_result"
    }
   ],
   "source": [
    "Y_pred = model.predict(X_test)\n",
    "Y_pred_classes = Y_pred.argmax(axis=-1)\n",
    "Y_pred_classes"
   ]
  },
  {
   "cell_type": "markdown",
   "id": "a02a1ca7",
   "metadata": {},
   "source": [
    "# Checking for Accuracy Score"
   ]
  },
  {
   "cell_type": "code",
   "execution_count": 25,
   "id": "ad078f5d",
   "metadata": {},
   "outputs": [
    {
     "name": "stdout",
     "output_type": "stream",
     "text": [
      "Accuracy: 0.9547901821060966\n"
     ]
    }
   ],
   "source": [
    "from sklearn.metrics import accuracy_score\n",
    "\n",
    "# Convert predicted probabilities to class labels\n",
    "Y_pred_classes = Y_pred.argmax(axis=-1)\n",
    "\n",
    "# Compute accuracy\n",
    "accuracy = accuracy_score(label, Y_pred_classes)\n",
    "print(\"Accuracy:\", accuracy)"
   ]
  },
  {
   "cell_type": "markdown",
   "id": "5fef4c3e",
   "metadata": {},
   "source": [
    "# Saving Our Model"
   ]
  },
  {
   "cell_type": "code",
   "execution_count": 26,
   "id": "f8a523fc",
   "metadata": {},
   "outputs": [],
   "source": [
    "model.save(\"./training/TSR.h5\")"
   ]
  },
  {
   "cell_type": "code",
   "execution_count": 35,
   "id": "ccfc3e06",
   "metadata": {},
   "outputs": [],
   "source": [
    "from keras.models import load_model\n",
    "model = load_model('./training/TSR.h5')\n"
   ]
  },
  {
   "cell_type": "markdown",
   "id": "2552af4e",
   "metadata": {},
   "source": [
    "# Classes of Traffic Signs(Total 43 classes)"
   ]
  },
  {
   "cell_type": "code",
   "execution_count": 28,
   "id": "fcceae64",
   "metadata": {},
   "outputs": [],
   "source": [
    "# Classes of trafic signs\n",
    "classes = { 0:'Speed limit (20km/h)',\n",
    "            1:'Speed limit (30km/h)', \n",
    "            2:'Speed limit (50km/h)', \n",
    "            3:'Speed limit (60km/h)', \n",
    "            4:'Speed limit (70km/h)', \n",
    "            5:'Speed limit (80km/h)', \n",
    "            6:'End of speed limit (80km/h)', \n",
    "            7:'Speed limit (100km/h)', \n",
    "            8:'Speed limit (120km/h)', \n",
    "            9:'No passing', \n",
    "            10:'No passing veh over 3.5 tons', \n",
    "            11:'Right-of-way at intersection', \n",
    "            12:'Priority road', \n",
    "            13:'Yield', \n",
    "            14:'Stop', \n",
    "            15:'No vehicles', \n",
    "            16:'Veh > 3.5 tons prohibited', \n",
    "            17:'No entry', \n",
    "            18:'General caution', \n",
    "            19:'Dangerous curve left', \n",
    "            20:'Dangerous curve right', \n",
    "            21:'Double curve', \n",
    "            22:'Bumpy road', \n",
    "            23:'Slippery road', \n",
    "            24:'Road narrows on the right', \n",
    "            25:'Road work', \n",
    "            26:'Traffic signals', \n",
    "            27:'Pedestrians', \n",
    "            28:'Children crossing', \n",
    "            29:'Bicycles crossing', \n",
    "            30:'Beware of ice/snow',\n",
    "            31:'Wild animals crossing', \n",
    "            32:'End speed + passing limits', \n",
    "            33:'Turn right ahead', \n",
    "            34:'Turn left ahead', \n",
    "            35:'Ahead only', \n",
    "            36:'Go straight or right', \n",
    "            37:'Go straight or left', \n",
    "            38:'Keep right', \n",
    "            39:'Keep left', \n",
    "            40:'Roundabout mandatory', \n",
    "            41:'End of no passing', \n",
    "            42:'End no passing veh > 3.5 tons' }"
   ]
  },
  {
   "cell_type": "code",
   "execution_count": 29,
   "id": "9e4f9d52",
   "metadata": {},
   "outputs": [],
   "source": [
    "def test_on_img(img):\n",
    "    data=[]\n",
    "    image = Image.open(img)\n",
    "    image = image.resize((30,30))\n",
    "    data.append(np.array(image))\n",
    "    X_test=np.array(data)\n",
    "    Y_pred = model.predict(X_test)\n",
    "    return image,Y_pred"
   ]
  },
  {
   "cell_type": "markdown",
   "id": "f68d8a15",
   "metadata": {},
   "source": [
    "# Testing one image for traffic sign detection and recognition manually "
   ]
  },
  {
   "cell_type": "code",
   "execution_count": 34,
   "id": "5deeabbf",
   "metadata": {},
   "outputs": [
    {
     "name": "stdout",
     "output_type": "stream",
     "text": [
      "1/1 [==============================] - 0s 40ms/step\n",
      "Predicted Traffic Sign is: Road work\n"
     ]
    },
    {
     "data": {
      "text/plain": [
       "<matplotlib.image.AxesImage at 0x1ec83549130>"
      ]
     },
     "execution_count": 34,
     "metadata": {},
     "output_type": "execute_result"
    },
    {
     "data": {
      "image/png": "[encoded data removed]",
      "text/plain": [
       "<Figure size 432x288 with 1 Axes>"
      ]
     },
     "metadata": {
      "needs_background": "light"
     },
     "output_type": "display_data"
    }
   ],
   "source": [
    "plot, prediction = test_on_img(r'C:\\Users\\KIIT\\OneDrive\\Desktop\\TTL_MINI_PROJECT\\Test\\00045.png')\n",
    "a = np.argmax(prediction)\n",
    "print(\"Predicted Traffic Sign is:\", classes[a])\n",
    "plt.imshow(plot)\n",
    "\n"
   ]
  },
  {
   "cell_type": "markdown",
   "id": "810c38b1",
   "metadata": {},
   "source": [
    "Hence, Our Model is ready for Traffic Sign Detection and Recognition With 95.47 % accuracy."
   ]
  },
  {
   "cell_type": "code",
   "execution_count": null,
   "id": "8674fa74",
   "metadata": {},
   "outputs": [],
   "source": []
  }
 ],
 "metadata": {
  "kernelspec": {
   "display_name": "Python 3 (ipykernel)",
   "language": "python",
   "name": "python3"
  },
  "language_info": {
   "codemirror_mode": {
    "name": "ipython",
    "version": 3
   },
   "file_extension": ".py",
   "mimetype": "text/x-python",
   "name": "python",
   "nbconvert_exporter": "python",
   "pygments_lexer": "ipython3",
   "version": "3.9.12"
  }
 },
 "nbformat": 4,
 "nbformat_minor": 5
}
